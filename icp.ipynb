{
 "cells": [
  {
   "cell_type": "code",
   "execution_count": null,
   "metadata": {},
   "outputs": [],
   "source": [
    "from icp import run_icp, rigid_transform, R_and_T\n",
    "import numpy as np"
   ]
  },
  {
   "cell_type": "code",
   "execution_count": 2,
   "metadata": {},
   "outputs": [],
   "source": [
    "def pred(ds, data_idx, pose_evaluator, max_attempts=100, max_iters=1000):\n",
    "    from learning.utils import IDX_TO_OBJ_NAMES\n",
    "    cloud, model, obj_idx, pose = ds[data_idx]\n",
    "    if len(cloud) < 1:\n",
    "        R_pred, t_pred = R_and_T(np.eye(4))\n",
    "    else:\n",
    "        R_pred_cloud, t_pred_cloud = R_and_T(run_icp(cloud, model, max_attempts=max_attempts, max_iters=max_iters))\n",
    "        R_pred, t_pred = R_and_T(rigid_transform(model, (model - t_pred_cloud) @ R_pred_cloud))\n",
    "    return pose_evaluator.evaluate(IDX_TO_OBJ_NAMES[obj_idx[0]], R_pred, pose[:3, :3], t_pred, pose[:3, 3])"
   ]
  },
  {
   "cell_type": "code",
   "execution_count": 3,
   "metadata": {},
   "outputs": [],
   "source": [
    "def pred_over_ds(data_dir='processed_for_icp/val', max_attempts=100, max_iters=1000):\n",
    "    from benchmark_utils.pose_evaluator import PoseEvaluator\n",
    "    pose_evaluator = PoseEvaluator()\n",
    "\n",
    "    from learning.load import PoseDataset\n",
    "    ds = PoseDataset(data_dir=data_dir, cloud=True, model=True, transform=None)\n",
    "    \n",
    "    successes, rre_syms, rres, rtes = [], [], [], []\n",
    "    pbar = tqdm(range(len(ds)))\n",
    "    for i in pbar:\n",
    "        eval = pred(ds, i, pose_evaluator, max_attempts=max_attempts, max_iters=max_iters)\n",
    "        rre_syms.append(eval['rre_symmetry'])\n",
    "        rres.append(eval['rre'])\n",
    "        rtes.append(eval['rte'])\n",
    "        successes.append(int(rre_syms[-1] <= 5 and rtes[-1] <= 0.01))\n",
    "        pbar.set_description('\\t'.join([\n",
    "            'running rates', f'success={np.mean(successes):.4f}',\n",
    "            f'rre_sym={np.mean(rre_syms):.4f}', f'rte={np.mean(rtes):.4f}']\n",
    "        ))\n",
    "    return np.mean(successes)"
   ]
  },
  {
   "cell_type": "code",
   "execution_count": 4,
   "metadata": {},
   "outputs": [],
   "source": [
    "# pred_over_ds(data_dir='processed_for_icp_2/val', max_attempts=10, max_iters=1000)"
   ]
  },
  {
   "cell_type": "code",
   "execution_count": 5,
   "metadata": {},
   "outputs": [],
   "source": [
    "# pred_over_ds(data_dir='processed_for_icp_2/val', max_attempts=100, max_iters=1000)"
   ]
  },
  {
   "cell_type": "code",
   "execution_count": 6,
   "metadata": {},
   "outputs": [],
   "source": [
    "from learning.load import PoseDataset\n",
    "from pathlib import Path\n",
    "from tqdm import tqdm\n",
    "import pickle\n",
    "\n",
    "def pred_over_raw_data(output_json_name='icp_pred.json', raw_data_dir='raw_data', processed_data_dir='processed_for_icp_2', max_attempts=100, max_iters=1000, thresh=1e-5):\n",
    "    def get_stripped_lines(fp, levels=[1, 2, 3]):\n",
    "        return [x.strip() for x in open(fp, 'r').readlines() if int(x[0]) in levels]\n",
    "\n",
    "    raw_data_dir = Path(raw_data_dir)\n",
    "    raw_test_dir = raw_data_dir / 'testing_data'\n",
    "    raw_test_obj_dir = raw_test_dir / 'v2.2'\n",
    "    processed_data_dir = Path(processed_data_dir)\n",
    "    processed_test_dir = processed_data_dir / 'test'\n",
    "\n",
    "    test_scene_names = get_stripped_lines(raw_test_dir / 'test.txt')\n",
    "    test_ds = PoseDataset(data_dir=processed_test_dir, train=False, cloud=True, model=True, transform=None)\n",
    "\n",
    "    data_point_num = 0\n",
    "    all_data = dict()\n",
    "    pbar = tqdm(test_scene_names)\n",
    "    for scene_name in pbar:\n",
    "        meta_path = raw_test_obj_dir / f'{scene_name}_meta.pkl'\n",
    "        meta = pickle.load(open(meta_path, 'rb'))\n",
    "\n",
    "        scene_data = dict(poses_world=[None] * 79)\n",
    "\n",
    "        for obj_id, obj_name in zip(meta['object_ids'], meta['object_names']):\n",
    "\n",
    "            pbar.set_description(f'dp_num={data_point_num}')\n",
    "\n",
    "            cloud, model, _ = test_ds[data_point_num]\n",
    "            if len(cloud) < 1:\n",
    "                T = np.eye(4)\n",
    "            else:\n",
    "                R_pred_cloud, t_pred_cloud = R_and_T(run_icp(cloud, model, max_attempts=max_attempts, max_iters=max_iters, finish_loop_thresh=thresh, acceptable_thresh=thresh))\n",
    "                T = rigid_transform(model, (model - t_pred_cloud) @ R_pred_cloud)\n",
    "\n",
    "            scene_data['poses_world'][obj_id] = T.tolist()\n",
    "\n",
    "            data_point_num += 1\n",
    "\n",
    "        all_data[scene_name] = scene_data\n",
    "\n",
    "    import json\n",
    "    with open(output_json_name, 'w') as fp:\n",
    "        json.dump(all_data, fp)"
   ]
  },
  {
   "cell_type": "markdown",
   "metadata": {},
   "source": [
    "## HW2: Levels 1-2"
   ]
  },
  {
   "cell_type": "code",
   "execution_count": null,
   "metadata": {},
   "outputs": [],
   "source": [
    "# pred_over_raw_data(output_json_name='icp_pred.json', raw_data_dir='raw_data_all', processed_data_dir='processed_for_icp_2', max_attempts=100, max_iters=1000, thresh=-np.inf)"
   ]
  },
  {
   "cell_type": "markdown",
   "metadata": {},
   "source": [
    "## HW3: Levels 1-3"
   ]
  },
  {
   "cell_type": "code",
   "execution_count": null,
   "metadata": {},
   "outputs": [],
   "source": [
    "pred_over_raw_data(output_json_name='icp_pred_unet.json', raw_data_dir='raw_data_all', processed_data_dir='processed_data_unet', max_attempts=100, max_iters=1000, thresh=-np.inf)"
   ]
  }
 ],
 "metadata": {
  "kernelspec": {
   "display_name": "cse275",
   "language": "python",
   "name": "python3"
  },
  "language_info": {
   "codemirror_mode": {
    "name": "ipython",
    "version": 3
   },
   "file_extension": ".py",
   "mimetype": "text/x-python",
   "name": "python",
   "nbconvert_exporter": "python",
   "pygments_lexer": "ipython3",
   "version": "3.9.18"
  }
 },
 "nbformat": 4,
 "nbformat_minor": 2
}
